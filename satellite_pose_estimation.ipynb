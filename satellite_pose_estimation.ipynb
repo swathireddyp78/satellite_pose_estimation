{
 "cells": [
  {
   "cell_type": "code",
   "execution_count": 1,
   "metadata": {},
   "outputs": [
    {
     "name": "stderr",
     "output_type": "stream",
     "text": [
      "Using TensorFlow backend.\n"
     ]
    }
   ],
   "source": [
    "#importing libraries for image processing\n",
    "\n",
    "import keras\n",
    "import numpy as np\n",
    "import random\n",
    "from PIL import Image\n",
    "import cv2\n",
    "import os\n",
    "import pandas as pd\n",
    "import warnings\n",
    "import matplotlib.pyplot as plt\n"
   ]
  },
  {
   "cell_type": "code",
   "execution_count": 2,
   "metadata": {},
   "outputs": [],
   "source": [
    "#importing libraries for building model\n",
    "\n",
    "from __future__ import print_function\n",
    "from keras.models import Sequential\n",
    "from keras.layers import Dense, Dropout, Flatten\n",
    "from keras.layers import Conv2D, MaxPooling2D\n",
    "from keras import backend as K\n",
    "from keras import losses"
   ]
  },
  {
   "cell_type": "code",
   "execution_count": 3,
   "metadata": {},
   "outputs": [],
   "source": [
    "#Loads the images from training directory\n",
    "\n",
    "def load_images_from_folder(folder):\n",
    "    images = []\n",
    "    for filename in os.listdir(folder):\n",
    "        img = cv2.imread(os.path.join(folder,filename))\n",
    "        if img is not None:\n",
    "            images.append(img)\n",
    "    return images\n"
   ]
  },
  {
   "cell_type": "code",
   "execution_count": 4,
   "metadata": {},
   "outputs": [],
   "source": [
    "#Pre-processing the input\n",
    "\n",
    "def preprocess_images(images):\n",
    "    images = np.array(images, dtype=np.float32)\n",
    "    images = images.astype('float32')\n",
    "    images /= 255\n",
    "    return images\n"
   ]
  },
  {
   "cell_type": "code",
   "execution_count": 5,
   "metadata": {},
   "outputs": [],
   "source": [
    "#Read the coordinates of the joints (labels)\n",
    "\n",
    "def read_labels(label_file):\n",
    "    df = pd.read_csv(label_file)\n",
    "    numpy_matrix = df.as_matrix()\n",
    "    return numpy_matrix"
   ]
  },
  {
   "cell_type": "code",
   "execution_count": 6,
   "metadata": {},
   "outputs": [],
   "source": [
    "#Model\n",
    "\n",
    "def build_model():\n",
    "    model = Sequential()\n",
    "    model.add(Conv2D(55, (55,96),\n",
    "                     activation='relu',\n",
    "                     input_shape=input_shape))\n",
    "    model.add(MaxPooling2D(pool_size=(2, 2), strides=(2, 2)))\n",
    "    model.add(Conv2D(27, (27,32), activation='relu'))\n",
    "    model.add(MaxPooling2D(pool_size=(2, 2)))\n",
    "    model.add(Conv2D(13, (13,12), activation='relu'))\n",
    "    model.add(MaxPooling2D(pool_size=(2, 2)))\n",
    "    model.add(Flatten())\n",
    "    model.add(Dropout(0.25))    \n",
    "    model.add(Dense(2048, activation='relu'))\n",
    "    model.add(Dense(2048, activation='relu'))\n",
    "    model.add(Dropout(0.5))\n",
    "    model.add(Dense(12, activation='relu'))\n",
    "    return model\n",
    "    "
   ]
  },
  {
   "cell_type": "code",
   "execution_count": 7,
   "metadata": {},
   "outputs": [],
   "source": [
    "#directories for train_data and test_data\n",
    "\n",
    "train_img_path = '/home/nani/Satellite_pose_Estimation/training_data/X_train'\n",
    "validation_img_path = '/home/nani/Satellite_pose_Estimation/validation_data/X_validation'\n",
    "test_img_path = '/home/nani/Satellite_pose_Estimation/test_data/X_test'\n",
    "\n",
    "train_lbl_path = '/home/nani/Satellite_pose_Estimation/training_data/y_train/y_train.csv'\n",
    "validation_lbl_path = '/home/nani/Satellite_pose_Estimation/validation_data/y_validation/y_validation.csv'\n",
    "test_lbl_path = '/home/nani/Satellite_pose_Estimation/test_data/y_test/y_test.csv'\n",
    "\n",
    "input_shape = (256, 256, 3)\n",
    "\n",
    "## input image dimensions\n",
    "img_rows, img_cols = 256, 256\n"
   ]
  },
  {
   "cell_type": "code",
   "execution_count": 8,
   "metadata": {},
   "outputs": [
    {
     "name": "stderr",
     "output_type": "stream",
     "text": [
      "/home/nani/anaconda3/envs/satellite_pose_estimation/lib/python3.7/site-packages/ipykernel_launcher.py:5: FutureWarning: Method .as_matrix will be removed in a future version. Use .values instead.\n",
      "  \"\"\"\n"
     ]
    }
   ],
   "source": [
    "#Read training and testing data\n",
    "\n",
    "#X\n",
    "train_images = load_images_from_folder(train_img_path)\n",
    "validation_images = load_images_from_folder(validation_img_path)\n",
    "test_images  = load_images_from_folder(test_img_path)\n",
    "\n",
    "#y\n",
    "y_train = read_labels(train_lbl_path)\n",
    "y_validation = read_labels(validation_lbl_path)\n",
    "y_test = read_labels(test_lbl_path)\n",
    "\n"
   ]
  },
  {
   "cell_type": "code",
   "execution_count": 9,
   "metadata": {},
   "outputs": [],
   "source": [
    "#Preprocessing the input data\n",
    "\n",
    "x_train = preprocess_images(train_images)\n",
    "x_validation = preprocess_images(validation_images) \n",
    "x_test = preprocess_images(test_images)"
   ]
  },
  {
   "cell_type": "code",
   "execution_count": 10,
   "metadata": {
    "scrolled": false
   },
   "outputs": [
    {
     "name": "stdout",
     "output_type": "stream",
     "text": [
      "WARNING:tensorflow:From /home/nani/anaconda3/envs/satellite_pose_estimation/lib/python3.7/site-packages/tensorflow/python/framework/op_def_library.py:263: colocate_with (from tensorflow.python.framework.ops) is deprecated and will be removed in a future version.\n",
      "Instructions for updating:\n",
      "Colocations handled automatically by placer.\n",
      "WARNING:tensorflow:From /home/nani/anaconda3/envs/satellite_pose_estimation/lib/python3.7/site-packages/keras/backend/tensorflow_backend.py:3445: calling dropout (from tensorflow.python.ops.nn_ops) with keep_prob is deprecated and will be removed in a future version.\n",
      "Instructions for updating:\n",
      "Please use `rate` instead of `keep_prob`. Rate should be set to `rate = 1 - keep_prob`.\n"
     ]
    }
   ],
   "source": [
    "#Build model\n",
    "model = build_model()\n",
    "model.compile(loss=keras.losses.mean_squared_error,\n",
    "              optimizer='adam',\n",
    "              metrics=['accuracy'])\n",
    "\n"
   ]
  },
  {
   "cell_type": "code",
   "execution_count": 11,
   "metadata": {},
   "outputs": [
    {
     "name": "stdout",
     "output_type": "stream",
     "text": [
      "WARNING:tensorflow:From /home/nani/anaconda3/envs/satellite_pose_estimation/lib/python3.7/site-packages/tensorflow/python/ops/math_ops.py:3066: to_int32 (from tensorflow.python.ops.math_ops) is deprecated and will be removed in a future version.\n",
      "Instructions for updating:\n",
      "Use tf.cast instead.\n",
      "Train on 80 samples, validate on 10 samples\n",
      "Epoch 1/10\n",
      "80/80 [==============================] - 189s 2s/step - loss: 97619.5122 - acc: 0.0750 - val_loss: 17131.7930 - val_acc: 0.2000\n",
      "Epoch 2/10\n",
      "80/80 [==============================] - 183s 2s/step - loss: 17430.4893 - acc: 0.0875 - val_loss: 17093.0156 - val_acc: 0.2000\n",
      "Epoch 3/10\n",
      "80/80 [==============================] - 183s 2s/step - loss: 17311.2886 - acc: 0.1125 - val_loss: 16774.9766 - val_acc: 0.0000e+00\n",
      "Epoch 4/10\n",
      "80/80 [==============================] - 184s 2s/step - loss: 16350.3839 - acc: 0.0750 - val_loss: 14098.5215 - val_acc: 0.0000e+00\n",
      "Epoch 5/10\n",
      "80/80 [==============================] - 186s 2s/step - loss: 12312.5363 - acc: 0.0500 - val_loss: 8692.7793 - val_acc: 0.2000\n",
      "Epoch 6/10\n",
      "80/80 [==============================] - 183s 2s/step - loss: 6479.2479 - acc: 0.1375 - val_loss: 5227.1904 - val_acc: 0.2000\n",
      "Epoch 7/10\n",
      "80/80 [==============================] - 184s 2s/step - loss: 3763.9762 - acc: 0.1500 - val_loss: 2559.9434 - val_acc: 0.2000\n",
      "Epoch 8/10\n",
      "80/80 [==============================] - 183s 2s/step - loss: 1967.5698 - acc: 0.0750 - val_loss: 1793.2426 - val_acc: 0.1000\n",
      "Epoch 9/10\n",
      "80/80 [==============================] - 184s 2s/step - loss: 1183.4892 - acc: 0.2250 - val_loss: 1622.2321 - val_acc: 0.4000\n",
      "Epoch 10/10\n",
      "80/80 [==============================] - 182s 2s/step - loss: 1043.1078 - acc: 0.4000 - val_loss: 1674.1647 - val_acc: 0.4000\n"
     ]
    }
   ],
   "source": [
    "#Fit the data\n",
    "history = model.fit(x_train, y_train,\n",
    "          batch_size=10,\n",
    "          epochs=10,\n",
    "          verbose=1,\n",
    "          validation_data=(x_validation, y_validation))\n",
    "\n"
   ]
  },
  {
   "cell_type": "code",
   "execution_count": 12,
   "metadata": {},
   "outputs": [
    {
     "name": "stdout",
     "output_type": "stream",
     "text": [
      "\r",
      "10/10 [==============================] - 7s 725ms/step\n"
     ]
    },
    {
     "data": {
      "text/plain": [
       "[500.95465087890625, 0.699999988079071]"
      ]
     },
     "execution_count": 12,
     "metadata": {},
     "output_type": "execute_result"
    }
   ],
   "source": [
    "#Evaluate test_Data\n",
    "model.evaluate(x_test, y_test)"
   ]
  },
  {
   "cell_type": "code",
   "execution_count": 14,
   "metadata": {},
   "outputs": [
    {
     "name": "stdout",
     "output_type": "stream",
     "text": [
      "dict_keys(['val_loss', 'val_acc', 'loss', 'acc'])\n"
     ]
    },
    {
     "data": {
      "image/png": "[encoded data removed]",
      "text/plain": [
       "<Figure size 432x288 with 1 Axes>"
      ]
     },
     "metadata": {
      "needs_background": "light"
     },
     "output_type": "display_data"
    },
    {
     "data": {
      "image/png": "[encoded data removed]",
      "text/plain": [
       "<Figure size 432x288 with 1 Axes>"
      ]
     },
     "metadata": {
      "needs_background": "light"
     },
     "output_type": "display_data"
    }
   ],
   "source": [
    "# list all data in history\n",
    "print(history.history.keys())\n",
    "# summarize history for accuracy\n",
    "plt.plot(history.history['acc'])\n",
    "plt.plot(history.history['val_acc'])\n",
    "plt.title('model accuracy')\n",
    "plt.ylabel('accuracy')\n",
    "plt.xlabel('epoch')\n",
    "plt.legend(['train', 'validation'], loc='upper left')\n",
    "plt.show()\n",
    "# summarize history for loss\n",
    "plt.plot(history.history['loss'])\n",
    "plt.plot(history.history['val_loss'])\n",
    "plt.title('model loss')\n",
    "plt.ylabel('loss')\n",
    "plt.xlabel('epoch')\n",
    "plt.legend(['train', 'validation'], loc='upper left')\n",
    "plt.show()"
   ]
  },
  {
   "cell_type": "code",
   "execution_count": null,
   "metadata": {},
   "outputs": [],
   "source": []
  }
 ],
 "metadata": {
  "kernelspec": {
   "display_name": "Python 3",
   "language": "python",
   "name": "python3"
  },
  "language_info": {
   "codemirror_mode": {
    "name": "ipython",
    "version": 3
   },
   "file_extension": ".py",
   "mimetype": "text/x-python",
   "name": "python",
   "nbconvert_exporter": "python",
   "pygments_lexer": "ipython3",
   "version": "3.7.3"
  }
 },
 "nbformat": 4,
 "nbformat_minor": 2
}
